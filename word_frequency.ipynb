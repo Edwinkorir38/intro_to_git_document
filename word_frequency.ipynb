{
 "cells": [
  {
   "cell_type": "code",
   "execution_count": 6,
   "id": "c5ef3830-d481-4b07-b170-9aead145f9a6",
   "metadata": {},
   "outputs": [
    {
     "name": "stdin",
     "output_type": "stream",
     "text": [
      "Enter text the dog ate the cat and then ate the dog\n"
     ]
    },
    {
     "name": "stdout",
     "output_type": "stream",
     "text": [
      "{'the': 3, 'dog': 2, 'ate': 2, 'cat': 1, 'and': 1, 'then': 1}\n"
     ]
    }
   ],
   "source": [
    "def main():\n",
    "    words = input(\"Enter text\").split()\n",
    "    word_frequencies ={}\n",
    "    for word in words :\n",
    "        word_frequencies[word] = word_frequencies.get(word,0) + 1\n",
    "\n",
    "    print(word_frequencies)\n",
    "\n",
    "if __name__ == \"__main__\":\n",
    "\n",
    "    main()\n"
   ]
  },
  {
   "cell_type": "code",
   "execution_count": 7,
   "id": "bc7b4a42-2323-4fcb-8bdd-a1699b60a0f8",
   "metadata": {},
   "outputs": [],
   "source": [
    "#we take the change positively"
   ]
  },
  {
   "cell_type": "code",
   "execution_count": 8,
   "id": "72a6cf9c-968e-4b59-a72e-6ef1e245bddb",
   "metadata": {},
   "outputs": [
    {
     "name": "stdin",
     "output_type": "stream",
     "text": [
      "Enter text This is another example\n"
     ]
    },
    {
     "name": "stdout",
     "output_type": "stream",
     "text": [
      "{'This': 1, 'is': 1, 'another': 1, 'example': 1}\n"
     ]
    }
   ],
   "source": [
    "example_2 = main()"
   ]
  },
  {
   "cell_type": "code",
   "execution_count": null,
   "id": "d450363f-4bcf-439c-bd47-cd4304b66c3a",
   "metadata": {},
   "outputs": [],
   "source": []
  }
 ],
 "metadata": {
  "kernelspec": {
   "display_name": "Python 3 (ipykernel)",
   "language": "python",
   "name": "python3"
  },
  "language_info": {
   "codemirror_mode": {
    "name": "ipython",
    "version": 3
   },
   "file_extension": ".py",
   "mimetype": "text/x-python",
   "name": "python",
   "nbconvert_exporter": "python",
   "pygments_lexer": "ipython3",
   "version": "3.11.7"
  }
 },
 "nbformat": 4,
 "nbformat_minor": 5
}
